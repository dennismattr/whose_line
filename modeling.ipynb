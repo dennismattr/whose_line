{
 "cells": [
  {
   "cell_type": "markdown",
   "metadata": {},
   "source": [
    "# Imports"
   ]
  },
  {
   "cell_type": "code",
   "execution_count": 3,
   "metadata": {},
   "outputs": [],
   "source": [
    "# Basics\n",
    "import numpy as np\n",
    "import pandas as pd\n",
    "import os\n",
    "\n",
    "# Scikit Learn\n",
    "from sklearn.preprocessing import StandardScaler, LabelEncoder, OneHotEncoder\n",
    "from sklearn.model_selection import train_test_split, cross_val_score\n",
    "from sklearn.svm import SVC\n",
    "\n",
    "# Keras\n",
    "from keras.models import Sequential\n",
    "from keras.layers import Dense, Dropout, LSTM, GRU, Embedding\n",
    "from keras.utils import to_categorical\n",
    "from keras.preprocessing.text import Tokenizer\n",
    "from keras.preprocessing.sequence import pad_sequences\n",
    "\n",
    "# Charts\n",
    "import matplotlib.pyplot as plt\n",
    "%matplotlib inline"
   ]
  },
  {
   "cell_type": "markdown",
   "metadata": {},
   "source": [
    "# Functions"
   ]
  },
  {
   "cell_type": "code",
   "execution_count": 2,
   "metadata": {},
   "outputs": [],
   "source": [
    "def tokenize(df, max_num_words, max_sequence_length):\n",
    "    '''\n",
    "    Take in a DataFrame of text data, cap number of words and sequence length\n",
    "    pad sequences for LSTM\n",
    "    '''\n",
    "    tokenizer = Tokenizer(num_words=max_num_words)\n",
    "    tokenizer.fit_on_texts(df['sentence'].values)\n",
    "    sequences = tokenizer.texts_to_sequences(df['sentence'].values)\n",
    "    word_index = tokenizer.word_index\n",
    "    padded_sequences = pad_sequences(sequences, maxlen=max_sequence_length)\n",
    "    \n",
    "    return padded_sequences, word_index, tokenizer"
   ]
  },
  {
   "cell_type": "code",
   "execution_count": 8,
   "metadata": {},
   "outputs": [],
   "source": [
    "def vectorize(max_num_words, embedding_dim, word_index):\n",
    "    '''\n",
    "    Vectorize words in the gloVe vector space specified\n",
    "    gives embedding index for use by the embed function\n",
    "    '''\n",
    "    glove_dir = './glove.6B'\n",
    "    embedding_index = {}\n",
    "\n",
    "    with open(os.path.join(glove_dir, 'glove.6B.300d.txt')) as f:\n",
    "        for line in f:\n",
    "            values = line.split()\n",
    "            word = values[0]\n",
    "            coefs = np.asarray(values[1:], dtype='float32')\n",
    "            embedding_index[word] = coefs\n",
    "    \n",
    "    return embedding_index"
   ]
  },
  {
   "cell_type": "code",
   "execution_count": 4,
   "metadata": {},
   "outputs": [],
   "source": [
    "def embed(max_num_words, embedding_index, embedding_dim, word_index):\n",
    "    '''\n",
    "    Embed words into the gloVe vector space\n",
    "    '''\n",
    "    embedding_matrix = np.zeros((max_num_words, embedding_dim))\n",
    "    for word, index in word_index.items():\n",
    "        if index < max_num_words:\n",
    "            # Using \"get\" with the dict is a safe way to avoid missing key errors\n",
    "            embedding_vector = embedding_index.get(word) \n",
    "            if embedding_vector is not None:\n",
    "                embedding_matrix[index] = embedding_vector\n",
    "    \n",
    "    return embedding_matrix"
   ]
  },
  {
   "cell_type": "markdown",
   "metadata": {},
   "source": [
    "# Read-in Data"
   ]
  },
  {
   "cell_type": "code",
   "execution_count": 6,
   "metadata": {},
   "outputs": [
    {
     "name": "stdout",
     "output_type": "stream",
     "text": [
      "(18820, 3)\n"
     ]
    },
    {
     "data": {
      "text/html": [
       "<div>\n",
       "<style scoped>\n",
       "    .dataframe tbody tr th:only-of-type {\n",
       "        vertical-align: middle;\n",
       "    }\n",
       "\n",
       "    .dataframe tbody tr th {\n",
       "        vertical-align: top;\n",
       "    }\n",
       "\n",
       "    .dataframe thead th {\n",
       "        text-align: right;\n",
       "    }\n",
       "</style>\n",
       "<table border=\"1\" class=\"dataframe\">\n",
       "  <thead>\n",
       "    <tr style=\"text-align: right;\">\n",
       "      <th></th>\n",
       "      <th>sentence</th>\n",
       "      <th>author</th>\n",
       "      <th>title</th>\n",
       "    </tr>\n",
       "  </thead>\n",
       "  <tbody>\n",
       "    <tr>\n",
       "      <th>0</th>\n",
       "      <td>in the late summer of that year we lived in a ...</td>\n",
       "      <td>hemingway</td>\n",
       "      <td>a farewell to arms</td>\n",
       "    </tr>\n",
       "    <tr>\n",
       "      <th>1</th>\n",
       "      <td>in the bed of the river there were pebbles and...</td>\n",
       "      <td>hemingway</td>\n",
       "      <td>a farewell to arms</td>\n",
       "    </tr>\n",
       "    <tr>\n",
       "      <th>2</th>\n",
       "      <td>troops went by the house and down the road and...</td>\n",
       "      <td>hemingway</td>\n",
       "      <td>a farewell to arms</td>\n",
       "    </tr>\n",
       "    <tr>\n",
       "      <th>3</th>\n",
       "      <td>the trunks of the trees too were dusty and the...</td>\n",
       "      <td>hemingway</td>\n",
       "      <td>a farewell to arms</td>\n",
       "    </tr>\n",
       "    <tr>\n",
       "      <th>4</th>\n",
       "      <td>the plain was rich with crops   there were man...</td>\n",
       "      <td>hemingway</td>\n",
       "      <td>a farewell to arms</td>\n",
       "    </tr>\n",
       "  </tbody>\n",
       "</table>\n",
       "</div>"
      ],
      "text/plain": [
       "                                            sentence     author  \\\n",
       "0  in the late summer of that year we lived in a ...  hemingway   \n",
       "1  in the bed of the river there were pebbles and...  hemingway   \n",
       "2  troops went by the house and down the road and...  hemingway   \n",
       "3  the trunks of the trees too were dusty and the...  hemingway   \n",
       "4  the plain was rich with crops   there were man...  hemingway   \n",
       "\n",
       "                title  \n",
       "0  a farewell to arms  \n",
       "1  a farewell to arms  \n",
       "2  a farewell to arms  \n",
       "3  a farewell to arms  \n",
       "4  a farewell to arms  "
      ]
     },
     "execution_count": 6,
     "metadata": {},
     "output_type": "execute_result"
    }
   ],
   "source": [
    "# Load data specified in 'file'\n",
    "file = './data/data60.csv'\n",
    "data = pd.read_csv(file)\n",
    "data.drop(['Unnamed: 0'], axis=1, inplace=True)\n",
    "print(data.shape)\n",
    "data.head()"
   ]
  },
  {
   "cell_type": "markdown",
   "metadata": {},
   "source": [
    "# Embed Data"
   ]
  },
  {
   "cell_type": "code",
   "execution_count": 9,
   "metadata": {
    "scrolled": true
   },
   "outputs": [],
   "source": [
    "# Set parameters\n",
    "max_sequence_length = 100 # Max input\n",
    "max_num_words = 150000 # Available gloVe lexicon\n",
    "embedding_dim = 300 # Dimension of gloVe vector space\n",
    "\n",
    "# Tokenize and vectorize the data\n",
    "padded_sequences, word_index, tokenizer = tokenize(data, max_num_words, max_sequence_length)\n",
    "embedding_index = vectorize(max_num_words, embedding_dim, word_index)\n",
    "embedding_matrix = embed(max_num_words, embedding_index, embedding_dim, word_index)"
   ]
  },
  {
   "cell_type": "code",
   "execution_count": 13,
   "metadata": {},
   "outputs": [],
   "source": [
    "# Setup X\n",
    "X = padded_sequences\n",
    "\n",
    "# Setup y\n",
    "y = data['author']\n",
    "le = LabelEncoder()\n",
    "y = le.fit_transform(y)\n",
    "y = y.reshape(-1, 1)\n",
    "oe = OneHotEncoder(sparse=False)\n",
    "y = oe.fit_transform(y)\n",
    "\n",
    "# Dimension to be used in LSTM\n",
    "output_shape = le.classes_.shape[0]\n",
    "\n",
    "# Train-test split\n",
    "X_train, X_test, y_train, y_test = train_test_split(X, y)"
   ]
  },
  {
   "cell_type": "markdown",
   "metadata": {},
   "source": [
    "# LSTM Modeling"
   ]
  },
  {
   "cell_type": "markdown",
   "metadata": {},
   "source": [
    "Foundational layer setup of Long Short Term Memory model."
   ]
  },
  {
   "cell_type": "code",
   "execution_count": 14,
   "metadata": {},
   "outputs": [
    {
     "name": "stdout",
     "output_type": "stream",
     "text": [
      "_________________________________________________________________\n",
      "Layer (type)                 Output Shape              Param #   \n",
      "=================================================================\n",
      "embedding_1 (Embedding)      (None, 100, 300)          45000000  \n",
      "_________________________________________________________________\n",
      "lstm_1 (LSTM)                (None, 9)                 11160     \n",
      "_________________________________________________________________\n",
      "dense_1 (Dense)              (None, 4)                 40        \n",
      "=================================================================\n",
      "Total params: 45,011,200\n",
      "Trainable params: 45,011,200\n",
      "Non-trainable params: 0\n",
      "_________________________________________________________________\n"
     ]
    }
   ],
   "source": [
    "lstm = Sequential()\n",
    "lstm.add(Embedding(max_num_words, embedding_dim, input_length=max_sequence_length))\n",
    "lstm.add(LSTM(9, recurrent_dropout=0.5, dropout=0.5))\n",
    "lstm.add(Dense(output_shape, activation='softmax'))\n",
    "\n",
    "# Use the pre-trained GloVe weights, which are here called `embedding_matrix`, in the model.\n",
    "lstm.layers[0].set_weights([embedding_matrix])\n",
    "\n",
    "lstm.compile(optimizer='adam', loss='binary_crossentropy', metrics=['acc'])\n",
    "lstm.summary()"
   ]
  },
  {
   "cell_type": "code",
   "execution_count": 15,
   "metadata": {
    "scrolled": true
   },
   "outputs": [
    {
     "name": "stdout",
     "output_type": "stream",
     "text": [
      "Train on 14115 samples, validate on 4705 samples\n",
      "Epoch 1/6\n",
      "14115/14115 [==============================] - 200s 14ms/step - loss: 0.5468 - acc: 0.7515 - val_loss: 0.5048 - val_acc: 0.7685\n",
      "Epoch 2/6\n",
      "14115/14115 [==============================] - 207s 15ms/step - loss: 0.4740 - acc: 0.7779 - val_loss: 0.4165 - val_acc: 0.8083\n",
      "Epoch 3/6\n",
      "14115/14115 [==============================] - 202s 14ms/step - loss: 0.3982 - acc: 0.8208 - val_loss: 0.3629 - val_acc: 0.8408\n",
      "Epoch 4/6\n",
      "14115/14115 [==============================] - 206s 15ms/step - loss: 0.3268 - acc: 0.8638 - val_loss: 0.3262 - val_acc: 0.8629\n",
      "Epoch 5/6\n",
      "14115/14115 [==============================] - 210s 15ms/step - loss: 0.2608 - acc: 0.8969 - val_loss: 0.3074 - val_acc: 0.8717\n",
      "Epoch 6/6\n",
      "14115/14115 [==============================] - 206s 15ms/step - loss: 0.2122 - acc: 0.9203 - val_loss: 0.3045 - val_acc: 0.8745\n"
     ]
    }
   ],
   "source": [
    "epoch_count = 6\n",
    "\n",
    "# Fit the model\n",
    "lstm_output = lstm.fit(X_train, y_train, \n",
    "                   epochs=epoch_count, \n",
    "                   batch_size=max_sequence_length, \n",
    "                   validation_data=(X_test, y_test))"
   ]
  },
  {
   "cell_type": "code",
   "execution_count": 19,
   "metadata": {},
   "outputs": [
    {
     "data": {
      "image/png": "[encoded data removed]",
      "text/plain": [
       "<Figure size 432x288 with 1 Axes>"
      ]
     },
     "metadata": {},
     "output_type": "display_data"
    }
   ],
   "source": [
    "# Plot results\n",
    "lstm_train_loss = lstm_output.history['acc']\n",
    "lstm_test_loss = lstm_output.history['val_acc']\n",
    "plt.plot(lstm_train_loss, label='training acc')\n",
    "plt.plot(lstm_test_loss, label='test acc')\n",
    "plt.legend();"
   ]
  },
  {
   "cell_type": "code",
   "execution_count": 20,
   "metadata": {},
   "outputs": [
    {
     "name": "stdout",
     "output_type": "stream",
     "text": [
      "0.7516117590013397\n",
      "0.7792242249613149\n",
      "0.8217499098624061\n",
      "0.8605030088233813\n",
      "0.8934998195347869\n",
      "0.919146302254792\n"
     ]
    }
   ],
   "source": [
    "# Get history data for plotting later\n",
    "for i in lstm_output.history['acc']:\n",
    "    print(i)"
   ]
  },
  {
   "cell_type": "code",
   "execution_count": 21,
   "metadata": {},
   "outputs": [
    {
     "name": "stdout",
     "output_type": "stream",
     "text": [
      "0.7727417525905605\n",
      "0.804675880388043\n",
      "0.8362380422010431\n",
      "0.8561636596506385\n",
      "0.867268865217438\n",
      "0.8744420808889407\n"
     ]
    }
   ],
   "source": [
    "# More data for plotting\n",
    "for i in lstm_output.history['val_acc']:\n",
    "    print(i)"
   ]
  },
  {
   "cell_type": "markdown",
   "metadata": {},
   "source": [
    "# GRU  Modeling"
   ]
  },
  {
   "cell_type": "code",
   "execution_count": 100,
   "metadata": {},
   "outputs": [],
   "source": [
    "# gru = Sequential()\n",
    "# gru.add(Embedding(max_num_words, embedding_dim, input_length=max_sequence_length))\n",
    "# gru.add(GRU(4))\n",
    "# gru.add(Dense(output_shape, activation='softmax'))\n",
    "\n",
    "# # Use the pre-trained GloVe weights, which are here called `embedding_matrix`, in the model.\n",
    "# gru.layers[0].set_weights([embedding_matrix])\n",
    "\n",
    "# gru.compile(optimizer='adam', loss='binary_crossentropy', metrics=['acc'])\n",
    "# gru.summary()"
   ]
  },
  {
   "cell_type": "code",
   "execution_count": 99,
   "metadata": {},
   "outputs": [],
   "source": [
    "# epoch_count = 5\n",
    "\n",
    "# # Fit the model\n",
    "# gru_output = gru.fit(X_train, y_train,\n",
    "#                      epochs=epoch_count,\n",
    "#                      batch_size=max_sequence_length,\n",
    "#                      validation_data=(X_test, y_test))\n",
    "\n",
    "# # Plot results\n",
    "# gru_train_loss = gru_output.history['loss']\n",
    "# gru_test_loss = gru_output.history['val_loss']\n",
    "# plt.plot(gru_train_loss, label='training accuracy')\n",
    "# plt.plot(gru_test_loss, label='test accuracy')\n",
    "# plt.legend();"
   ]
  },
  {
   "cell_type": "markdown",
   "metadata": {},
   "source": [
    "# SVC"
   ]
  },
  {
   "cell_type": "code",
   "execution_count": 65,
   "metadata": {},
   "outputs": [],
   "source": [
    "svc = SVC(gamma=0.001, C=1)\n",
    "cross_val_score(svc, X_train, y_train, cv=5, scoring='accuracy').mean()"
   ]
  },
  {
   "cell_type": "markdown",
   "metadata": {},
   "source": [
    "# Check"
   ]
  },
  {
   "cell_type": "code",
   "execution_count": 434,
   "metadata": {
    "scrolled": true
   },
   "outputs": [
    {
     "name": "stdout",
     "output_type": "stream",
     "text": [
      "(9, 3)\n"
     ]
    },
    {
     "data": {
      "text/html": [
       "<div>\n",
       "<style scoped>\n",
       "    .dataframe tbody tr th:only-of-type {\n",
       "        vertical-align: middle;\n",
       "    }\n",
       "\n",
       "    .dataframe tbody tr th {\n",
       "        vertical-align: top;\n",
       "    }\n",
       "\n",
       "    .dataframe thead th {\n",
       "        text-align: right;\n",
       "    }\n",
       "</style>\n",
       "<table border=\"1\" class=\"dataframe\">\n",
       "  <thead>\n",
       "    <tr style=\"text-align: right;\">\n",
       "      <th></th>\n",
       "      <th>sentence</th>\n",
       "      <th>author</th>\n",
       "      <th>title</th>\n",
       "    </tr>\n",
       "  </thead>\n",
       "  <tbody>\n",
       "    <tr>\n",
       "      <th>0</th>\n",
       "      <td>a handsome dark   eyed man with a dagger   lik...</td>\n",
       "      <td>various</td>\n",
       "      <td>targets</td>\n",
       "    </tr>\n",
       "    <tr>\n",
       "      <th>1</th>\n",
       "      <td>the painting showed a hairless   oppressed cre...</td>\n",
       "      <td>various</td>\n",
       "      <td>targets</td>\n",
       "    </tr>\n",
       "    <tr>\n",
       "      <th>2</th>\n",
       "      <td>nnnn are urged to tolerate cheerfully any mino...</td>\n",
       "      <td>various</td>\n",
       "      <td>targets</td>\n",
       "    </tr>\n",
       "    <tr>\n",
       "      <th>3</th>\n",
       "      <td>he went over to it   held it in his hands awhi...</td>\n",
       "      <td>various</td>\n",
       "      <td>targets</td>\n",
       "    </tr>\n",
       "    <tr>\n",
       "      <th>4</th>\n",
       "      <td>if he had smiled why would he have smiled</td>\n",
       "      <td>various</td>\n",
       "      <td>targets</td>\n",
       "    </tr>\n",
       "    <tr>\n",
       "      <th>5</th>\n",
       "      <td>to reflect that each one who enters imagines h...</td>\n",
       "      <td>various</td>\n",
       "      <td>targets</td>\n",
       "    </tr>\n",
       "    <tr>\n",
       "      <th>6</th>\n",
       "      <td>i love the water   we used to lie out on the s...</td>\n",
       "      <td>various</td>\n",
       "      <td>targets</td>\n",
       "    </tr>\n",
       "    <tr>\n",
       "      <th>7</th>\n",
       "      <td>i do n t like sand   it  s coarse and rough ir...</td>\n",
       "      <td>various</td>\n",
       "      <td>targets</td>\n",
       "    </tr>\n",
       "    <tr>\n",
       "      <th>8</th>\n",
       "      <td>back then the fallout had been sporadic and hi...</td>\n",
       "      <td>various</td>\n",
       "      <td>targets</td>\n",
       "    </tr>\n",
       "  </tbody>\n",
       "</table>\n",
       "</div>"
      ],
      "text/plain": [
       "                                            sentence   author    title\n",
       "0  a handsome dark   eyed man with a dagger   lik...  various  targets\n",
       "1  the painting showed a hairless   oppressed cre...  various  targets\n",
       "2  nnnn are urged to tolerate cheerfully any mino...  various  targets\n",
       "3  he went over to it   held it in his hands awhi...  various  targets\n",
       "4        if he had smiled why would he have smiled    various  targets\n",
       "5  to reflect that each one who enters imagines h...  various  targets\n",
       "6  i love the water   we used to lie out on the s...  various  targets\n",
       "7  i do n t like sand   it  s coarse and rough ir...  various  targets\n",
       "8  back then the fallout had been sporadic and hi...  various  targets"
      ]
     },
     "execution_count": 434,
     "metadata": {},
     "output_type": "execute_result"
    }
   ],
   "source": [
    "file = './targets.csv'\n",
    "check = pd.read_csv(file)\n",
    "check.drop(['Unnamed: 0'], axis=1, inplace=True)\n",
    "print(check.shape)\n",
    "check"
   ]
  },
  {
   "cell_type": "code",
   "execution_count": 435,
   "metadata": {},
   "outputs": [],
   "source": [
    "sequences = tokenizer.texts_to_sequences(check['sentence'].values)\n",
    "padded_sequences = pad_sequences(sequences, maxlen=max_sequence_length)\n",
    "X_check = padded_sequences"
   ]
  },
  {
   "cell_type": "code",
   "execution_count": 436,
   "metadata": {},
   "outputs": [],
   "source": [
    "models = {\n",
    "    'lstm': lstm,\n",
    "#     'gru': gru\n",
    "}"
   ]
  },
  {
   "cell_type": "code",
   "execution_count": 437,
   "metadata": {
    "scrolled": true
   },
   "outputs": [],
   "source": [
    "# for name, model in models.items():\n",
    "#     y_hat = model.predict_classes(X_check)\n",
    "#     acc = list(y_hat).count(0) / len(y_hat)\n",
    "#     print(f'{name} model accuracy is: {acc}')"
   ]
  },
  {
   "cell_type": "code",
   "execution_count": 438,
   "metadata": {},
   "outputs": [
    {
     "data": {
      "text/plain": [
       "array(['hemingway', 'nabokov', 'vonnegut', 'woolf'], dtype=object)"
      ]
     },
     "execution_count": 438,
     "metadata": {},
     "output_type": "execute_result"
    }
   ],
   "source": [
    "le.classes_"
   ]
  },
  {
   "cell_type": "code",
   "execution_count": 439,
   "metadata": {},
   "outputs": [
    {
     "name": "stdout",
     "output_type": "stream",
     "text": [
      "[0.00747003 0.9116766  0.04869667 0.03215669]\n",
      "[0.00229332 0.809143   0.13336903 0.0551946 ]\n",
      "[0.00530754 0.66916364 0.05590021 0.26962858]\n",
      "[0.17759196 0.10821285 0.0868677  0.6273275 ]\n",
      "[0.91438216 0.00632112 0.05866728 0.02062944]\n",
      "[0.01044024 0.3754281  0.05116086 0.56297076]\n",
      "[0.96381086 0.00190147 0.00846744 0.0258202 ]\n",
      "[0.3624866  0.06094853 0.12875791 0.44780695]\n",
      "[0.3790237  0.06679919 0.5078987  0.04627842]\n"
     ]
    }
   ],
   "source": [
    "for target in lstm.predict_proba(X_check):\n",
    "    print(target)"
   ]
  },
  {
   "cell_type": "code",
   "execution_count": null,
   "metadata": {},
   "outputs": [],
   "source": []
  }
 ],
 "metadata": {
  "kernelspec": {
   "display_name": "Python 3",
   "language": "python",
   "name": "python3"
  },
  "language_info": {
   "codemirror_mode": {
    "name": "ipython",
    "version": 3
   },
   "file_extension": ".py",
   "mimetype": "text/x-python",
   "name": "python",
   "nbconvert_exporter": "python",
   "pygments_lexer": "ipython3",
   "version": "3.6.4"
  }
 },
 "nbformat": 4,
 "nbformat_minor": 2
}
